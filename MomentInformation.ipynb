{
 "cells": [
  {
   "cell_type": "code",
   "execution_count": null,
   "metadata": {},
   "outputs": [],
   "source": [
    "import numpy as np\n",
    "import matplotlib\n",
    "import matplotlib.pyplot as plt\n",
    "import netCDF4 as nc4\n",
    "\n",
    "matplotlib.rcParams['figure.dpi'] = 100\n",
    "matplotlib.rcParams['figure.figsize'] = [12.0, 9.0]"
   ]
  },
  {
   "cell_type": "code",
   "execution_count": null,
   "metadata": {},
   "outputs": [],
   "source": [
    "R_m = 2.\n",
    "L = 31\n",
    "ds = np.array([R_m**(i/3) for i in range(L)])\n",
    "def moment_resp(n):\n",
    "    return ds**n\n",
    "m0 = moment_resp(0)\n",
    "m1 = moment_resp(1)\n",
    "m3 = moment_resp(3)\n",
    "m6 = moment_resp(6)\n",
    "mn1 = moment_resp(-1)\n",
    "mn3 = moment_resp(-3)\n",
    "mn6 = moment_resp(-6)\n",
    "plt.semilogx(ds, mn6/mn6.mean(), 'r--', label='$M_{-6}$')\n",
    "plt.semilogx(ds, mn3/mn3.mean(), 'r-', label='$M_{-3}$')\n",
    "plt.semilogx(ds, mn1/mn1.mean(), 'r:', label='$M_{-1}$')\n",
    "plt.semilogx(ds, m6/m6.mean(), 'b--', label='$M_6$')\n",
    "plt.semilogx(ds, m3/m3.mean(), 'b-', label='$M_3$')\n",
    "plt.semilogx(ds, m1/m1.mean(), 'b:', label='$M_1$')\n",
    "plt.semilogx(ds, m0/m0.mean(), 'k-', label='$M_0$')\n",
    "plt.axis('tight')\n",
    "plt.legend(loc='best')\n",
    "plt.xlabel('Droplet size ($\\mu m$)')\n",
    "plt.ylabel('Relative size of coefficients')\n",
    "plt.savefig('./moment_response.png')"
   ]
  },
  {
   "cell_type": "code",
   "execution_count": null,
   "metadata": {},
   "outputs": [],
   "source": []
  }
 ],
 "metadata": {
  "kernelspec": {
   "display_name": "Python 3",
   "language": "python",
   "name": "python3"
  },
  "language_info": {
   "codemirror_mode": {
    "name": "ipython",
    "version": 3
   },
   "file_extension": ".py",
   "mimetype": "text/x-python",
   "name": "python",
   "nbconvert_exporter": "python",
   "pygments_lexer": "ipython3",
   "version": "3.8.5"
  }
 },
 "nbformat": 4,
 "nbformat_minor": 4
}
